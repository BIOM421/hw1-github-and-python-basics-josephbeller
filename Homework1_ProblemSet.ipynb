{
 "cells": [
  {
   "cell_type": "markdown",
   "id": "bbe3f931-7cb6-4d10-9e0b-0228c145a880",
   "metadata": {},
   "source": [
    "# Notebook for Homework 1 "
   ]
  },
  {
   "cell_type": "code",
   "execution_count": 2,
   "id": "68311919-5c07-4475-a3d3-ba70c850e06e",
   "metadata": {
    "tags": []
   },
   "outputs": [],
   "source": [
    "# Preliminary Codes -- DO NOT CHANGE ANYTHING IN THIS SECTION\n",
    "import random, pickle\n",
    "import numpy as np\n",
    "xData = [100*random.random() for i in range(20)]\n",
    "number = 5+random.randint(8,20)\n",
    "fruit = 'apples'\n",
    "day = 'Saturday'\n",
    "string_4 = 'An alacritous abalone accelerates along an alarming aquatic ascent.'\n",
    "string_5 = 'A                       large space was here.'\n",
    "string_6 = 'ATCGTGCATGCTGAGTGGCGAGCGGCGGCCGTACGCTGTTACTTAAAACGTAGCTGTAAAAAAC\\\n",
    "            GCTGCTGATGCTGTGCATGTGACTAGCTGCATGTGTGACTGACTGCTGACGTACTGTACGTACG\\\n",
    "            ATGGTTCGTGCGATGCGCTTGACGTGTCGTAGTGCATGCTGCTAGCTGATCGATGTGTCGAGTC'\n",
    "nDigits = 6\n",
    "nPower = 3\n",
    "List10 = ['apples','bananas','pears','pears','blueberries','apples','strawberries']\n",
    "Student_IDs = [1,2,3,4,5]\n",
    "Student_names = ['Jim','John','Jenna','Jamal','Jaden']\n",
    "List12 = [1,2,3,4,5,6,7,8]\n",
    "\n",
    "q1 = 'xxx'\n",
    "q2 = 'XXX'\n",
    "q3 = 'XXX'\n",
    "q4 = 123\n",
    "q5 = 'XXX'\n",
    "q6 = 123\n",
    "q7 = 'XXX'\n",
    "q8 = 1.23\n",
    "q8 = 'xxx'\n",
    "q9 = 'xxx'\n",
    "q10 = List10\n",
    "q11 = 'xxx'\n",
    "q12 = [1,2,3,4,5,6,7,8]\n",
    "\n",
    "fnDat = 'Hwk1Data.pkl'\n",
    "dataDict = {'xData':xData,'number':number,'fruit':fruit,'day':day,'string_4':string_4,\n",
    "    'string_5':string_5,'string_6':string_6,'nDigits':nDigits,'nPower':nPower,\n",
    "    'Student_IDs':Student_IDs,'Student_names':Student_names,'List10':List10,'List12':List12}\n",
    "with open(fnDat, 'wb') as file:\n",
    "    pickle.dump(dataDict, file)\n",
    "\n",
    "def saveResults():\n",
    "    fn = 'Hwk1Answers.pkl'\n",
    "    answerDict = {'q1':q1,'q2':q2,'q3':q3,'q4':q4,'q5':q5,'q6':q6,'q7':q7,'q8':q8,\n",
    "                 'q9':q9,'q10':q10,'q11':q11,'q12':q12}\n",
    "    with open(fn, 'wb') as file:\n",
    "        pickle.dump(answerDict, file)\n",
    "\n",
    "    #Read and print \n",
    "    with open(fn, 'rb') as file:\n",
    "        loaded_dict = pickle.load(file)\n",
    "    \n",
    "    print(\"Your answers so far are:\")\n",
    "    print(loaded_dict)"
   ]
  },
  {
   "cell_type": "markdown",
   "id": "ed37dd2e-0076-4b05-b594-4e28cda958bc",
   "metadata": {},
   "source": [
    "## Problem Set 1 - Basic Arithmetic and String Manipulation"
   ]
  },
  {
   "cell_type": "code",
   "execution_count": 3,
   "id": "eb36cae3-6344-428b-9d97-ebe35b743109",
   "metadata": {
    "tags": []
   },
   "outputs": [
    {
     "name": "stdout",
     "output_type": "stream",
     "text": [
      "Your answers so far are:\n",
      "{'q1': 'Hello my name is Name', 'q2': 'XXX', 'q3': 'XXX', 'q4': 123, 'q5': 'XXX', 'q6': 123, 'q7': 'XXX', 'q8': 'xxx', 'q9': 'xxx', 'q10': ['apples', 'bananas', 'pears', 'pears', 'blueberries', 'apples', 'strawberries'], 'q11': 'xxx', 'q12': [1, 2, 3, 4, 5, 6, 7, 8]}\n"
     ]
    }
   ],
   "source": [
    "# Q1 - Concatenate the following strings with a space inbetween them (do not change the name).\n",
    "string_1 = 'Hello my name is'\n",
    "name = 'Name'\n",
    "q1 = string_1 + \" \" + name\n",
    "\n",
    "saveResults()"
   ]
  },
  {
   "cell_type": "code",
   "execution_count": 4,
   "id": "8f5fa2d5-598a-4244-a9ef-b0444bc67dc8",
   "metadata": {},
   "outputs": [
    {
     "name": "stdout",
     "output_type": "stream",
     "text": [
      "Your answers so far are:\n",
      "{'q1': 'Hello my name is Name', 'q2': 'I WOULD LIKE TO BE UPPERCASE', 'q3': 'XXX', 'q4': 123, 'q5': 'XXX', 'q6': 123, 'q7': 'XXX', 'q8': 'xxx', 'q9': 'xxx', 'q10': ['apples', 'bananas', 'pears', 'pears', 'blueberries', 'apples', 'strawberries'], 'q11': 'xxx', 'q12': [1, 2, 3, 4, 5, 6, 7, 8]}\n"
     ]
    }
   ],
   "source": [
    "# Q2 = Convert the following string to uppercase\n",
    "string_2 = 'i would like to be uppercase'\n",
    "q2 = string_2.upper()\n",
    "\n",
    "saveResults()"
   ]
  },
  {
   "cell_type": "code",
   "execution_count": 5,
   "id": "d2f6938c-1036-4622-94c4-d03ed23ae5dd",
   "metadata": {
    "tags": []
   },
   "outputs": [
    {
     "name": "stdout",
     "output_type": "stream",
     "text": [
      "18\n",
      "apples\n",
      "Saturday\n",
      "Your answers so far are:\n",
      "{'q1': 'Hello my name is Name', 'q2': 'I WOULD LIKE TO BE UPPERCASE', 'q3': 'I bought 18 apples on Saturday.', 'q4': 123, 'q5': 'XXX', 'q6': 123, 'q7': 'XXX', 'q8': 'xxx', 'q9': 'xxx', 'q10': ['apples', 'bananas', 'pears', 'pears', 'blueberries', 'apples', 'strawberries'], 'q11': 'xxx', 'q12': [1, 2, 3, 4, 5, 6, 7, 8]}\n"
     ]
    }
   ],
   "source": [
    "# Q3 - use string formatting to construct the following string: \n",
    "#. \"I bought [number] [fruit] on [day].\" where:\n",
    "#     [number] is replaced with the number value of the variable \"number\",\n",
    "#     [fruit] is replaced with the string value of the variable \"fruit\",\n",
    "#     [day] is replaced with the string value of the variable \"day\",\n",
    "print(number)\n",
    "print(fruit)\n",
    "print(day)\n",
    "q3 = \"I bought [number] [fruit] on [day].\".replace(\"[\",\"{\").replace(\"]\",\"}\").format(number=number,fruit=fruit,day=day)\n",
    "\n",
    "saveResults()"
   ]
  },
  {
   "cell_type": "code",
   "execution_count": 6,
   "id": "adc7baac-3d62-400e-8e5b-a66eb12e117e",
   "metadata": {
    "tags": []
   },
   "outputs": [
    {
     "name": "stdout",
     "output_type": "stream",
     "text": [
      "An alacritous abalone accelerates along an alarming aquatic ascent.\n",
      "Your answers so far are:\n",
      "{'q1': 'Hello my name is Name', 'q2': 'I WOULD LIKE TO BE UPPERCASE', 'q3': 'I bought 18 apples on Saturday.', 'q4': 13, 'q5': 'XXX', 'q6': 123, 'q7': 'XXX', 'q8': 'xxx', 'q9': 'xxx', 'q10': ['apples', 'bananas', 'pears', 'pears', 'blueberries', 'apples', 'strawberries'], 'q11': 'xxx', 'q12': [1, 2, 3, 4, 5, 6, 7, 8]}\n"
     ]
    }
   ],
   "source": [
    "# Q4 - count the number of a's in the string \"string_4\"\n",
    "print(string_4)\n",
    "q4 = string_4.count(\"a\")\n",
    "\n",
    "saveResults()"
   ]
  },
  {
   "cell_type": "code",
   "execution_count": 7,
   "id": "87dfc22b-0d94-4cc6-ab7c-cd484c67c919",
   "metadata": {
    "tags": []
   },
   "outputs": [
    {
     "name": "stdout",
     "output_type": "stream",
     "text": [
      "A                       large space was here.\n",
      "Your answers so far are:\n",
      "{'q1': 'Hello my name is Name', 'q2': 'I WOULD LIKE TO BE UPPERCASE', 'q3': 'I bought 18 apples on Saturday.', 'q4': 13, 'q5': 'Alargespacewashere.', 'q6': 123, 'q7': 'XXX', 'q8': 'xxx', 'q9': 'xxx', 'q10': ['apples', 'bananas', 'pears', 'pears', 'blueberries', 'apples', 'strawberries'], 'q11': 'xxx', 'q12': [1, 2, 3, 4, 5, 6, 7, 8]}\n"
     ]
    }
   ],
   "source": [
    "## Q5 - Strip \"string_5\" to remove all spaces and return the result as 'q5'\n",
    "print(string_5)\n",
    "q5 = string_5.replace(\" \",\"\") #strip does not work for this, see https://stackoverflow.com/questions/8270092/remove-all-whitespace-in-a-string\n",
    "\n",
    "saveResults()"
   ]
  },
  {
   "cell_type": "code",
   "execution_count": 8,
   "id": "57fe3ee3-f84f-4839-bed2-5ca82691a87c",
   "metadata": {
    "tags": []
   },
   "outputs": [
    {
     "name": "stdout",
     "output_type": "stream",
     "text": [
      "Your answers so far are:\n",
      "{'q1': 'Hello my name is Name', 'q2': 'I WOULD LIKE TO BE UPPERCASE', 'q3': 'I bought 18 apples on Saturday.', 'q4': 13, 'q5': 'Alargespacewashere.', 'q6': 216, 'q7': 'XXX', 'q8': 'xxx', 'q9': 'xxx', 'q10': ['apples', 'bananas', 'pears', 'pears', 'blueberries', 'apples', 'strawberries'], 'q11': 'xxx', 'q12': [1, 2, 3, 4, 5, 6, 7, 8]}\n"
     ]
    }
   ],
   "source": [
    "# Q6 - How long is the string \"string_6\"?\n",
    "q6 = len(string_6)\n",
    "\n",
    "saveResults()"
   ]
  },
  {
   "cell_type": "code",
   "execution_count": 11,
   "id": "039b31be-d4f6-455e-a50e-7c8abd6051d8",
   "metadata": {},
   "outputs": [
    {
     "data": {
      "text/plain": [
       "\u001b[0;31mSignature:\u001b[0m\n",
       "\u001b[0mnp\u001b[0m\u001b[0;34m.\u001b[0m\u001b[0mformat_float_scientific\u001b[0m\u001b[0;34m(\u001b[0m\u001b[0;34m\u001b[0m\n",
       "\u001b[0;34m\u001b[0m    \u001b[0mx\u001b[0m\u001b[0;34m,\u001b[0m\u001b[0;34m\u001b[0m\n",
       "\u001b[0;34m\u001b[0m    \u001b[0mprecision\u001b[0m\u001b[0;34m=\u001b[0m\u001b[0;32mNone\u001b[0m\u001b[0;34m,\u001b[0m\u001b[0;34m\u001b[0m\n",
       "\u001b[0;34m\u001b[0m    \u001b[0munique\u001b[0m\u001b[0;34m=\u001b[0m\u001b[0;32mTrue\u001b[0m\u001b[0;34m,\u001b[0m\u001b[0;34m\u001b[0m\n",
       "\u001b[0;34m\u001b[0m    \u001b[0mtrim\u001b[0m\u001b[0;34m=\u001b[0m\u001b[0;34m'k'\u001b[0m\u001b[0;34m,\u001b[0m\u001b[0;34m\u001b[0m\n",
       "\u001b[0;34m\u001b[0m    \u001b[0msign\u001b[0m\u001b[0;34m=\u001b[0m\u001b[0;32mFalse\u001b[0m\u001b[0;34m,\u001b[0m\u001b[0;34m\u001b[0m\n",
       "\u001b[0;34m\u001b[0m    \u001b[0mpad_left\u001b[0m\u001b[0;34m=\u001b[0m\u001b[0;32mNone\u001b[0m\u001b[0;34m,\u001b[0m\u001b[0;34m\u001b[0m\n",
       "\u001b[0;34m\u001b[0m    \u001b[0mexp_digits\u001b[0m\u001b[0;34m=\u001b[0m\u001b[0;32mNone\u001b[0m\u001b[0;34m,\u001b[0m\u001b[0;34m\u001b[0m\n",
       "\u001b[0;34m\u001b[0m    \u001b[0mmin_digits\u001b[0m\u001b[0;34m=\u001b[0m\u001b[0;32mNone\u001b[0m\u001b[0;34m,\u001b[0m\u001b[0;34m\u001b[0m\n",
       "\u001b[0;34m\u001b[0m\u001b[0;34m)\u001b[0m\u001b[0;34m\u001b[0m\u001b[0;34m\u001b[0m\u001b[0m\n",
       "\u001b[0;31mDocstring:\u001b[0m\n",
       "Format a floating-point scalar as a decimal string in scientific notation.\n",
       "\n",
       "Provides control over rounding, trimming and padding. Uses and assumes\n",
       "IEEE unbiased rounding. Uses the \"Dragon4\" algorithm.\n",
       "\n",
       "Parameters\n",
       "----------\n",
       "x : python float or numpy floating scalar\n",
       "    Value to format.\n",
       "precision : non-negative integer or None, optional\n",
       "    Maximum number of digits to print. May be None if `unique` is\n",
       "    `True`, but must be an integer if unique is `False`.\n",
       "unique : boolean, optional\n",
       "    If `True`, use a digit-generation strategy which gives the shortest\n",
       "    representation which uniquely identifies the floating-point number from\n",
       "    other values of the same type, by judicious rounding. If `precision`\n",
       "    is given fewer digits than necessary can be printed. If `min_digits`\n",
       "    is given more can be printed, in which cases the last digit is rounded\n",
       "    with unbiased rounding.\n",
       "    If `False`, digits are generated as if printing an infinite-precision\n",
       "    value and stopping after `precision` digits, rounding the remaining\n",
       "    value with unbiased rounding\n",
       "trim : one of 'k', '.', '0', '-', optional\n",
       "    Controls post-processing trimming of trailing digits, as follows:\n",
       "\n",
       "    * 'k' : keep trailing zeros, keep decimal point (no trimming)\n",
       "    * '.' : trim all trailing zeros, leave decimal point\n",
       "    * '0' : trim all but the zero before the decimal point. Insert the\n",
       "      zero if it is missing.\n",
       "    * '-' : trim trailing zeros and any trailing decimal point\n",
       "sign : boolean, optional\n",
       "    Whether to show the sign for positive values.\n",
       "pad_left : non-negative integer, optional\n",
       "    Pad the left side of the string with whitespace until at least that\n",
       "    many characters are to the left of the decimal point.\n",
       "exp_digits : non-negative integer, optional\n",
       "    Pad the exponent with zeros until it contains at least this many digits.\n",
       "    If omitted, the exponent will be at least 2 digits.\n",
       "min_digits : non-negative integer or None, optional\n",
       "    Minimum number of digits to print. This only has an effect for\n",
       "    `unique=True`. In that case more digits than necessary to uniquely\n",
       "    identify the value may be printed and rounded unbiased.\n",
       "\n",
       "    -- versionadded:: 1.21.0\n",
       "\n",
       "Returns\n",
       "-------\n",
       "rep : string\n",
       "    The string representation of the floating point value\n",
       "\n",
       "See Also\n",
       "--------\n",
       "format_float_positional\n",
       "\n",
       "Examples\n",
       "--------\n",
       ">>> np.format_float_scientific(np.float32(np.pi))\n",
       "'3.1415927e+00'\n",
       ">>> s = np.float32(1.23e24)\n",
       ">>> np.format_float_scientific(s, unique=False, precision=15)\n",
       "'1.230000071797338e+24'\n",
       ">>> np.format_float_scientific(s, exp_digits=4)\n",
       "'1.23e+0024'\n",
       "\u001b[0;31mFile:\u001b[0m      /Library/Frameworks/Python.framework/Versions/3.11/lib/python3.11/site-packages/numpy/core/arrayprint.py\n",
       "\u001b[0;31mType:\u001b[0m      function"
      ]
     },
     "metadata": {},
     "output_type": "display_data"
    }
   ],
   "source": [
    "?np.format_float_scientific"
   ]
  },
  {
   "cell_type": "code",
   "execution_count": 20,
   "id": "5df84638-359e-4ce2-8e90-925c40614253",
   "metadata": {
    "tags": []
   },
   "outputs": [
    {
     "name": "stdout",
     "output_type": "stream",
     "text": [
      "3.141592653589793\n",
      "6\n",
      "3\n",
      "Your answers so far are:\n",
      "{'q1': 'Hello my name is Name', 'q2': 'I WOULD LIKE TO BE UPPERCASE', 'q3': 'I bought 18 apples on Saturday.', 'q4': 13, 'q5': 'Alargespacewashere.', 'q6': 216, 'q7': '3.101e+01', 'q8': 'xxx', 'q9': 'xxx', 'q10': ['apples', 'bananas', 'pears', 'pears', 'blueberries', 'apples', 'strawberries'], 'q11': 'xxx', 'q12': [1, 2, 3, 4, 5, 6, 7, 8]}\n"
     ]
    }
   ],
   "source": [
    "# Q7 - Write a STRING that contains the value of pi^[nPower]. \n",
    "# Use exponent form to the 3rd decimal point (e.g., 2.500e+00).\n",
    "pi = np.pi\n",
    "print(pi)\n",
    "print(nDigits)\n",
    "print(nPower)\n",
    "q7 = np.format_float_scientific(np.power(pi,nPower),precision = 3) #results in a string\n",
    "saveResults()"
   ]
  },
  {
   "cell_type": "markdown",
   "id": "d6565fd5-b535-4571-84e9-2ea7a0c0c6ed",
   "metadata": {
    "tags": []
   },
   "source": [
    "## Problem Set 2 - Iterables, Slicing, and Sets"
   ]
  },
  {
   "cell_type": "code",
   "execution_count": 25,
   "id": "478785c4-c27a-4e62-ab36-8695589b3291",
   "metadata": {
    "tags": []
   },
   "outputs": [
    {
     "name": "stdout",
     "output_type": "stream",
     "text": [
      "[31.22942154997762, 83.77198010703079, 35.262807496060745, 30.66994941500194, 25.5081672542271, 61.0101399781991, 84.45226610960407, 75.9542068086125, 57.840521122346665, 77.61873010603824, 46.435428957828165, 29.638863246113832, 67.70195983366102, 10.088373846683417, 84.75930623228334, 19.585578868608998, 54.25910134974924, 99.78252439769199, 30.265179365399884, 13.486248174829218]\n",
      "Your answers so far are:\n",
      "{'q1': 'Hello my name is Name', 'q2': 'I WOULD LIKE TO BE UPPERCASE', 'q3': 'I bought 18 apples on Saturday.', 'q4': 13, 'q5': 'Alargespacewashere.', 'q6': 216, 'q7': '3.101e+01', 'q8': 50.9660377109974, 'q9': 'xxx', 'q10': ['apples', 'bananas', 'pears', 'pears', 'blueberries', 'apples', 'strawberries'], 'q11': 'xxx', 'q12': [1, 2, 3, 4, 5, 6, 7, 8]}\n"
     ]
    }
   ],
   "source": [
    "# Q8 - Consider the numbers in the list \"xData\", and compute their average.\n",
    "print(xData)\n",
    "q8 = np.average(xData)  # Change this to produce the average of the numbers in 'xData'\n",
    "\n",
    "saveResults()"
   ]
  },
  {
   "cell_type": "code",
   "execution_count": 26,
   "id": "52ccb85f-cbc6-46ab-ae0c-657d92d17cc1",
   "metadata": {
    "tags": []
   },
   "outputs": [
    {
     "name": "stdout",
     "output_type": "stream",
     "text": [
      "[31.22942154997762, 83.77198010703079, 35.262807496060745, 30.66994941500194, 25.5081672542271, 61.0101399781991, 84.45226610960407, 75.9542068086125, 57.840521122346665, 77.61873010603824, 46.435428957828165, 29.638863246113832, 67.70195983366102, 10.088373846683417, 84.75930623228334, 19.585578868608998, 54.25910134974924, 99.78252439769199, 30.265179365399884, 13.486248174829218]\n",
      "Your answers so far are:\n",
      "{'q1': 'Hello my name is Name', 'q2': 'I WOULD LIKE TO BE UPPERCASE', 'q3': 'I bought 18 apples on Saturday.', 'q4': 13, 'q5': 'Alargespacewashere.', 'q6': 216, 'q7': '3.101e+01', 'q8': 50.9660377109974, 'q9': 13.486248174829218, 'q10': ['apples', 'bananas', 'pears', 'pears', 'blueberries', 'apples', 'strawberries'], 'q11': 'xxx', 'q12': [1, 2, 3, 4, 5, 6, 7, 8]}\n"
     ]
    }
   ],
   "source": [
    "# Q9 - What's the last entry in the list \"xData\".  Get this by slicing the list.\n",
    "print(xData)\n",
    "q9 = xData[-1]\n",
    "\n",
    "saveResults()"
   ]
  },
  {
   "cell_type": "code",
   "execution_count": 28,
   "id": "1bac04df-6fb1-4ee9-ac15-9a21d5dbf087",
   "metadata": {},
   "outputs": [
    {
     "name": "stdout",
     "output_type": "stream",
     "text": [
      "['apples', 'bananas', 'pears', 'pears', 'blueberries', 'apples', 'strawberries']\n",
      "Your answers so far are:\n",
      "{'q1': 'Hello my name is Name', 'q2': 'I WOULD LIKE TO BE UPPERCASE', 'q3': 'I bought 18 apples on Saturday.', 'q4': 13, 'q5': 'Alargespacewashere.', 'q6': 216, 'q7': '3.101e+01', 'q8': 50.9660377109974, 'q9': 13.486248174829218, 'q10': ['bananas', 'strawberries', 'apples', 'blueberries', 'pears'], 'q11': 'xxx', 'q12': [1, 2, 3, 4, 5, 6, 7, 8]}\n"
     ]
    }
   ],
   "source": [
    "# Q10 - Convert between lists and sets to remove duplicate entries from the list \"List10\"\n",
    "print(List10)\n",
    "q10 = list(set(List10))\n",
    "\n",
    "saveResults()"
   ]
  },
  {
   "cell_type": "code",
   "execution_count": 33,
   "id": "84efaca0-7f30-4a5f-b973-054970681a64",
   "metadata": {},
   "outputs": [
    {
     "name": "stdout",
     "output_type": "stream",
     "text": [
      "[1, 2, 3, 4, 5]\n",
      "['Jim', 'John', 'Jenna', 'Jamal', 'Jaden']\n",
      "Your answers so far are:\n",
      "{'q1': 'Hello my name is Name', 'q2': 'I WOULD LIKE TO BE UPPERCASE', 'q3': 'I bought 18 apples on Saturday.', 'q4': 13, 'q5': 'Alargespacewashere.', 'q6': 216, 'q7': '3.101e+01', 'q8': 50.9660377109974, 'q9': 13.486248174829218, 'q10': ['bananas', 'strawberries', 'apples', 'blueberries', 'pears'], 'q11': {1: 'Jim', 2: 'John', 3: 'Jenna', 4: 'Jamal', 5: 'Jaden'}, 'q12': [1, 2, 3, 4, 5, 6, 7, 8]}\n"
     ]
    }
   ],
   "source": [
    "# Q11 - Combine the lists 'Student_IDs' and 'Student_names' into a dictionary keyed by the IDs. \n",
    "# i.e. Create a dictionary with pairs of { ID : student name }\n",
    "print(Student_IDs)\n",
    "print(Student_names)\n",
    "q11 = {Student_IDs[i]: Student_names[i] for i in range(len(Student_IDs))} #Using dictionary comprehension, see https://www.geeksforgeeks.org/python-convert-two-lists-into-a-dictionary/\n",
    "\n",
    "saveResults()"
   ]
  },
  {
   "cell_type": "code",
   "execution_count": 39,
   "id": "13f4c066-44df-4b82-a78d-4dd2ff590f03",
   "metadata": {
    "tags": []
   },
   "outputs": [
    {
     "name": "stdout",
     "output_type": "stream",
     "text": [
      "[1, 2, 3, 4, 5, 6, 7, 8]\n",
      "Your answers so far are:\n",
      "{'q1': 'Hello my name is Name', 'q2': 'I WOULD LIKE TO BE UPPERCASE', 'q3': 'I bought 18 apples on Saturday.', 'q4': 13, 'q5': 'Alargespacewashere.', 'q6': 216, 'q7': '3.101e+01', 'q8': 50.9660377109974, 'q9': 13.486248174829218, 'q10': ['bananas', 'strawberries', 'apples', 'blueberries', 'pears'], 'q11': {1: 'Jim', 2: 'John', 3: 'Jenna', 4: 'Jamal', 5: 'Jaden'}, 'q12': [2, 4, 6, 8]}\n"
     ]
    }
   ],
   "source": [
    "# Q12 - Slice to get every other entry in the list 'List12'\n",
    "print(List12)\n",
    "q12 = [List12[i] for i in range(len(List12)) if i % 2 != 0] #one-line method found from https://www.geeksforgeeks.org/python-list-consisting-of-all-the-alternate-elements/\n",
    "\n",
    "saveResults()"
   ]
  }
 ],
 "metadata": {
  "kernelspec": {
   "display_name": "Python 3 (ipykernel)",
   "language": "python",
   "name": "python3"
  },
  "language_info": {
   "codemirror_mode": {
    "name": "ipython",
    "version": 3
   },
   "file_extension": ".py",
   "mimetype": "text/x-python",
   "name": "python",
   "nbconvert_exporter": "python",
   "pygments_lexer": "ipython3",
   "version": "3.11.3"
  }
 },
 "nbformat": 4,
 "nbformat_minor": 5
}
